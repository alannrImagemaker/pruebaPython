{
 "cells": [
  {
   "cell_type": "code",
   "execution_count": 4,
   "id": "16a40b2a",
   "metadata": {},
   "outputs": [
    {
     "name": "stdout",
     "output_type": "stream",
     "text": [
      "dsadsdasdas\n"
     ]
    }
   ],
   "source": [
    "print (\"dsadsdasdas\")"
   ]
  },
  {
   "cell_type": "code",
   "execution_count": 5,
   "id": "f2610fca",
   "metadata": {},
   "outputs": [
    {
     "name": "stdout",
     "output_type": "stream",
     "text": [
      "dsda\n"
     ]
    }
   ],
   "source": [
    "print(\"dsda\")"
   ]
  },
  {
   "cell_type": "code",
   "execution_count": null,
   "id": "e4034898",
   "metadata": {},
   "outputs": [],
   "source": []
  },
  {
   "cell_type": "code",
   "execution_count": null,
   "id": "f47b5da9",
   "metadata": {},
   "outputs": [],
   "source": []
  }
 ],
 "metadata": {
  "kernelspec": {
   "display_name": "Python 3 (ipykernel)",
   "language": "python",
   "name": "python3"
  },
  "language_info": {
   "codemirror_mode": {
    "name": "ipython",
    "version": 3
   },
   "file_extension": ".py",
   "mimetype": "text/x-python",
   "name": "python",
   "nbconvert_exporter": "python",
   "pygments_lexer": "ipython3",
   "version": "3.8.2"
  }
 },
 "nbformat": 4,
 "nbformat_minor": 5
}
