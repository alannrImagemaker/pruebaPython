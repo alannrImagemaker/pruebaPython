{
 "cells": [
  {
   "cell_type": "code",
   "execution_count": 41,
   "metadata": {},
   "outputs": [
    {
     "name": "stdout",
     "output_type": "stream",
     "text": [
      "1\n",
      "3\n",
      "6\n",
      "10\n",
      "16\n",
      "24\n",
      "33\n"
     ]
    }
   ],
   "source": [
    "numero=10\n",
    "\n",
    "suma=0\n",
    "for i in range(numero+1):\n",
    "    if i % 5 != 0 and i % 7 != 0 :\n",
    "        suma += i\n",
    "        \n",
    "        print(suma)\n",
    "    \n",
    "   "
   ]
  },
  {
   "cell_type": "code",
   "execution_count": 72,
   "metadata": {},
   "outputs": [
    {
     "name": "stdout",
     "output_type": "stream",
     "text": [
      "numero :0\n",
      "0\n",
      "[0]\n",
      "numero :7\n",
      "ok\n",
      "[0, 7, 14, 21, 28, 35, 42, 49, 56, 63, 70, 77, 84, 91, 98]\n"
     ]
    }
   ],
   "source": [
    "\n",
    "while True:\n",
    "    numero = int(input(\"numero :\"))\n",
    "\n",
    "    if numero <0 or numero >10:\n",
    "        print(\"error, menor a 10, deve ser mayor a cero\")\n",
    "    elif numero == 0:\n",
    "        multiplos =[0]\n",
    "        print (\"0\")\n",
    "        print(multiplos)\n",
    "    else:\n",
    "        multiplos = list(range(0,101,numero))\n",
    "        print(\"ok\")\n",
    "        print(multiplos)\n",
    "        break"
   ]
  },
  {
   "cell_type": "code",
   "execution_count": 75,
   "metadata": {},
   "outputs": [
    {
     "data": {
      "text/plain": [
       "[0,\n",
       " 1,\n",
       " 2,\n",
       " 3,\n",
       " 4,\n",
       " 5,\n",
       " 6,\n",
       " 7,\n",
       " 8,\n",
       " 9,\n",
       " 10,\n",
       " 11,\n",
       " 12,\n",
       " 13,\n",
       " 14,\n",
       " 15,\n",
       " 16,\n",
       " 17,\n",
       " 18,\n",
       " 19,\n",
       " 20,\n",
       " 21,\n",
       " 22,\n",
       " 23,\n",
       " 24,\n",
       " 25,\n",
       " 26,\n",
       " 27,\n",
       " 28,\n",
       " 29,\n",
       " 30,\n",
       " 31,\n",
       " 32,\n",
       " 33,\n",
       " 34,\n",
       " 35,\n",
       " 36,\n",
       " 37,\n",
       " 38,\n",
       " 39,\n",
       " 40,\n",
       " 41,\n",
       " 42,\n",
       " 43,\n",
       " 44,\n",
       " 45,\n",
       " 46,\n",
       " 47,\n",
       " 48,\n",
       " 49,\n",
       " 50,\n",
       " 51,\n",
       " 52,\n",
       " 53,\n",
       " 54,\n",
       " 55,\n",
       " 56,\n",
       " 57,\n",
       " 58,\n",
       " 59,\n",
       " 60,\n",
       " 61,\n",
       " 62,\n",
       " 63,\n",
       " 64,\n",
       " 65,\n",
       " 66,\n",
       " 67,\n",
       " 68,\n",
       " 69,\n",
       " 70,\n",
       " 71,\n",
       " 72,\n",
       " 73,\n",
       " 74,\n",
       " 75,\n",
       " 76,\n",
       " 77,\n",
       " 78,\n",
       " 79,\n",
       " 80,\n",
       " 81,\n",
       " 82,\n",
       " 83,\n",
       " 84,\n",
       " 85,\n",
       " 86,\n",
       " 87,\n",
       " 88,\n",
       " 89,\n",
       " 90,\n",
       " 91,\n",
       " 92,\n",
       " 93,\n",
       " 94,\n",
       " 95,\n",
       " 96,\n",
       " 97,\n",
       " 98,\n",
       " 99,\n",
       " 100]"
      ]
     },
     "execution_count": 75,
     "metadata": {},
     "output_type": "execute_result"
    }
   ],
   "source": [
    "list(range(0,101))\n"
   ]
  },
  {
   "cell_type": "code",
   "execution_count": null,
   "metadata": {},
   "outputs": [],
   "source": []
  },
  {
   "cell_type": "code",
   "execution_count": 164,
   "metadata": {},
   "outputs": [
    {
     "name": "stdout",
     "output_type": "stream",
     "text": [
      "('Hola', 'A')\n",
      "Aola 3\n",
      "('Mundo', 'B')\n",
      "Aundo 3\n",
      "('Prueba', 'c')\n",
      "Arueba 3\n"
     ]
    }
   ],
   "source": [
    "cadena1 = [\"Hola\",\"Mundo\",\"Prueba\"]\n",
    "iniciales = [\"A\",\"B\",\"c\"]\n",
    "list(enumerate(cadena1))\n",
    "for i, cadena in enumerate(iniciales):\n",
    "   # print(indice, valor)\n",
    "    iniciales[i]=iniciales[i][0]\n",
    "    cadena2=(cadena1[i],iniciales[i][0])\n",
    "    cadena3=iniciales[0]+cadena1[i][1:]\n",
    "    \n",
    "    print(cadena2)\n",
    "    print(cadena3, \"3\")\n"
   ]
  },
  {
   "cell_type": "code",
   "execution_count": 166,
   "metadata": {},
   "outputs": [
    {
     "data": {
      "text/plain": [
       "[[8, 7, 0], [34, 2, -1], [5, -5, 12]]"
      ]
     },
     "execution_count": 166,
     "metadata": {},
     "output_type": "execute_result"
    }
   ],
   "source": [
    "matriz"
   ]
  },
  {
   "cell_type": "code",
   "execution_count": null,
   "metadata": {},
   "outputs": [],
   "source": []
  },
  {
   "cell_type": "raw",
   "metadata": {},
   "source": [
    "matriz = [\n",
    "    [8,7,0],\n",
    "    [34,2,-1],\n",
    "    [5,-5,12]\n",
    "]\n",
    "for i, matriz in range(len(matriz)):\n",
    "    for j, in range(len(matriz[i])):\n",
    "        print (matriz[i][j])\n"
   ]
  },
  {
   "cell_type": "code",
   "execution_count": 187,
   "metadata": {},
   "outputs": [
    {
     "name": "stdout",
     "output_type": "stream",
     "text": [
      "par\n",
      "impar\n",
      "7\n",
      "par\n",
      "[[0, 1, 0], [34, 2, -1], [5, -5, 12]]\n",
      "par\n",
      "par\n",
      "impar\n",
      "-1\n",
      "[[0, 1, 0], [0, 0, 1], [5, -5, 12]]\n",
      "impar\n",
      "5\n",
      "impar\n",
      "-5\n",
      "par\n",
      "[[0, 1, 0], [0, 0, 1], [1, 1, 0]]\n"
     ]
    }
   ],
   "source": [
    "matriz = [\n",
    "    [8,7,0],\n",
    "    [34,2,-1],\n",
    "    [5,-5,12]\n",
    "]\n",
    "for i in range(len(matriz)):\n",
    "    for j in range(len(matriz[i])):\n",
    "        if matriz[i][j]%2==0:\n",
    "            print(\"par\")\n",
    "            matriz[i][j] = 0\n",
    "        else:\n",
    "            print(\"impar\")\n",
    "            print (matriz[i][j])\n",
    "            matriz[i][j] = 1\n",
    "    print (matriz)\n",
    "        "
   ]
  },
  {
   "cell_type": "code",
   "execution_count": 209,
   "metadata": {},
   "outputs": [
    {
     "name": "stdout",
     "output_type": "stream",
     "text": [
      "-50\n",
      "4\n",
      "(100, 'Hola', [1, 2, 3])\n",
      "-50\n",
      "0\n"
     ]
    }
   ],
   "source": [
    "tupla = (100,\"Hola\",[1,2,3],-50)\n",
    "print(tupla[-1])\n",
    "print(len(tupla))\n",
    "tupla.index([1,2,3])\n",
    "print(tupla[:3])\n",
    "print(tupla[3])\n",
    "print(tupla.count(4)) "
   ]
  },
  {
   "cell_type": "code",
   "execution_count": 210,
   "metadata": {},
   "outputs": [],
   "source": [
    "grupo = {\"Miguel\", \"Blanca\", \"Mario\", \"Andrés\"}"
   ]
  },
  {
   "cell_type": "code",
   "execution_count": 218,
   "metadata": {},
   "outputs": [],
   "source": [
    "grupo.add('Ana')\n",
    "grupo.add('Ramon')\n",
    "grupo.add('Marta')\n",
    "grupo.add('Eric')\n",
    "grupo.add('David')"
   ]
  },
  {
   "cell_type": "code",
   "execution_count": 224,
   "metadata": {},
   "outputs": [
    {
     "data": {
      "text/plain": [
       "{'Ana', 'Andrés', 'Blanca', 'David', 'Eric', 'Marta'}"
      ]
     },
     "execution_count": 224,
     "metadata": {},
     "output_type": "execute_result"
    }
   ],
   "source": [
    "grupo"
   ]
  },
  {
   "cell_type": "code",
   "execution_count": 227,
   "metadata": {},
   "outputs": [],
   "source": [
    "animales = {'perro':'dog','gato':'cat','rana':'frog'}"
   ]
  },
  {
   "cell_type": "code",
   "execution_count": 237,
   "metadata": {},
   "outputs": [],
   "source": [
    "del(animales['vaca'])"
   ]
  },
  {
   "cell_type": "code",
   "execution_count": 238,
   "metadata": {},
   "outputs": [
    {
     "name": "stdout",
     "output_type": "stream",
     "text": [
      "perro\n",
      "gato\n",
      "rana\n"
     ]
    }
   ],
   "source": [
    "for animal in animales:\n",
    "    print(animal)"
   ]
  }
 ],
 "metadata": {
  "kernelspec": {
   "display_name": "Python 3 (ipykernel)",
   "language": "python",
   "name": "python3"
  },
  "language_info": {
   "codemirror_mode": {
    "name": "ipython",
    "version": 3
   },
   "file_extension": ".py",
   "mimetype": "text/x-python",
   "name": "python",
   "nbconvert_exporter": "python",
   "pygments_lexer": "ipython3",
   "version": "3.8.2"
  }
 },
 "nbformat": 4,
 "nbformat_minor": 1
}
